{
  "nbformat": 4,
  "nbformat_minor": 0,
  "metadata": {
    "colab": {
      "provenance": []
    },
    "kernelspec": {
      "name": "python3",
      "display_name": "Python 3"
    },
    "language_info": {
      "name": "python"
    }
  },
  "cells": [
    {
      "cell_type": "code",
      "execution_count": 1,
      "metadata": {
        "id": "cbZUZ7FkDS11"
      },
      "outputs": [],
      "source": [
        "import numpy as np"
      ]
    },
    {
      "cell_type": "code",
      "source": [
        "x = np.array([1,2,3,4,5,6])\n",
        "y = x*2 + 3"
      ],
      "metadata": {
        "id": "-tJ1aPnFDxjA"
      },
      "execution_count": 2,
      "outputs": []
    },
    {
      "cell_type": "code",
      "source": [
        "def predict(x_i, w, b):\n",
        "  pred = x_i*w + b\n",
        "  return pred"
      ],
      "metadata": {
        "id": "_W3toMLGEoXy"
      },
      "execution_count": 4,
      "outputs": []
    },
    {
      "cell_type": "code",
      "source": [
        "def costfunc(X, Y, w,b):\n",
        "  sum = 0\n",
        "  m = X.shape[0]\n",
        "  for i in range(m):\n",
        "    y_p = predict(X[i],w,b)\n",
        "    y_i = Y[i]\n",
        "    err = (y_p - y_i)**2\n",
        "    sum = sum + err\n",
        "  res = (sum/(2*m))\n",
        "  return res"
      ],
      "metadata": {
        "id": "fUO_nuPbFEew"
      },
      "execution_count": 5,
      "outputs": []
    },
    {
      "cell_type": "code",
      "source": [
        "def gradient (X, Y, w, b):\n",
        "  sumw = 0\n",
        "  sumb = 0\n",
        "  m = X.shape[0]\n",
        "  for i in range(m):\n",
        "    y_p = predict(X[i],w,b)\n",
        "    y_i = Y[i]\n",
        "    err = (y_p - y_i)*X[i]\n",
        "    err2 = (y_p - y_i)\n",
        "    sumw += err\n",
        "    sumb += err2\n",
        "  gradientw = (sumw/m)\n",
        "  gradientb = (sumb/m)\n",
        "  return gradientw,gradientb"
      ],
      "metadata": {
        "id": "18uL8HTCGbb1"
      },
      "execution_count": 6,
      "outputs": []
    },
    {
      "cell_type": "code",
      "source": [
        "def gradient_descent(epochs, X, Y, w, b, lr):\n",
        "  for i in range(epochs):\n",
        "    gradientw, gradientb = gradient(X,Y,w,b)\n",
        "    w = w - gradientw*lr\n",
        "    b = b - gradientb*lr\n",
        "    if(i%10==0):\n",
        "      print(costfunc(X,Y,w,b))\n",
        "  return w,b\n"
      ],
      "metadata": {
        "id": "uNdCFKPuHseF"
      },
      "execution_count": 24,
      "outputs": []
    },
    {
      "cell_type": "code",
      "source": [
        "w = 0.0\n",
        "b = 0.0"
      ],
      "metadata": {
        "id": "T30PmOT1Ib9t"
      },
      "execution_count": 43,
      "outputs": []
    },
    {
      "cell_type": "code",
      "source": [
        "w,b = gradient_descent(1000, x, y, w, b, 0.018)"
      ],
      "metadata": {
        "colab": {
          "base_uri": "https://localhost:8080/"
        },
        "id": "4c_QpPzlIiAF",
        "outputId": "ba6b8dd3-bbe6-4eda-93c4-9b01165be4dd"
      },
      "execution_count": 44,
      "outputs": [
        {
          "output_type": "stream",
          "name": "stdout",
          "text": [
            "28.596789583333333\n",
            "0.547961542653645\n",
            "0.4834305320588277\n",
            "0.45261217527370934\n",
            "0.4237897832704632\n",
            "0.39680283967925467\n",
            "0.3715344253449846\n",
            "0.3478751042407488\n",
            "0.3257224092710728\n",
            "0.30498039844762387\n",
            "0.28555923937018446\n",
            "0.2673748201679337\n",
            "0.25034838521600017\n",
            "0.23440619404958998\n",
            "0.21947920199847246\n",
            "0.2055027611586724\n",
            "0.1924163404062875\n",
            "0.18016326324083454\n",
            "0.16869046232273957\n",
            "0.15794824964188328\n",
            "0.14789010132181998\n",
            "0.13847245612767167\n",
            "0.12965452680503967\n",
            "0.12139812343286281\n",
            "0.1136674880251675\n",
            "0.1064291396653831\n",
            "0.09965172950250849\n",
            "0.09330590498112519\n",
            "0.08736418271724616\n",
            "0.08180082946943575\n",
            "0.07659175068968822\n",
            "0.07171438617139296\n",
            "0.06714761234243592\n",
            "0.06287165078028116\n",
            "0.05886798255281389\n",
            "0.0551192680139598\n",
            "0.051609271706721645\n",
            "0.048322792048393126\n",
            "0.04524559549341836\n",
            "0.04236435488876338\n",
            "0.039666591754818556\n",
            "0.037140622241855006\n",
            "0.03477550652797406\n",
            "0.0325610014393977\n",
            "0.030487516087899316\n",
            "0.02854607033324444\n",
            "0.026728255890743555\n",
            "0.025026199915478085\n",
            "0.023432530905481686\n",
            "0.0219403467762104\n",
            "0.020543184968028923\n",
            "0.01923499445725454\n",
            "0.018010109549537644\n",
            "0.016863225342080113\n",
            "0.015789374748421372\n",
            "0.014783906986285593\n",
            "0.013842467435323684\n",
            "0.012960978777514509\n",
            "0.012135623338546293\n",
            "0.01136282655369891\n",
            "0.010639241486619088\n",
            "0.009961734333940915\n",
            "0.009327370852971537\n",
            "0.008733403653663272\n",
            "0.008177260299832612\n",
            "0.007656532168093571\n",
            "0.007168964016255069\n",
            "0.0067124442160029114\n",
            "0.006284995607564482\n",
            "0.005884766936748858\n",
            "0.005510024837276216\n",
            "0.0051591463236730925\n",
            "0.004830611762219801\n",
            "0.0045229982895082605\n",
            "0.00423497365010635\n",
            "0.003965290426639724\n",
            "0.0037127806373024423\n",
            "0.0034763506773977056\n",
            "0.0032549765830022694\n",
            "0.0030476995962397924\n",
            "0.002853622012958683\n",
            "0.0026719032948290954\n",
            "0.0025017564290221762\n",
            "0.002342444519704862\n",
            "0.0021932775965883976\n",
            "0.0020536096267085254\n",
            "0.0019228357164956993\n",
            "0.0018003894920172493\n",
            "0.0016857406460461602\n",
            "0.001578392641332379\n",
            "0.0014778805601297622\n",
            "0.0013837690906653855\n",
            "0.001295650641830526\n",
            "0.0012131435779278383\n",
            "0.001135890565830552\n",
            "0.0010635570273938072\n",
            "0.0009958296904171392\n",
            "0.0009324152318812316\n",
            "0.0008730390075836497\n",
            "0.0008174438626713994\n"
          ]
        }
      ]
    },
    {
      "cell_type": "code",
      "source": [
        "print(w,b)"
      ],
      "metadata": {
        "colab": {
          "base_uri": "https://localhost:8080/"
        },
        "id": "uf-wdGRVIov8",
        "outputId": "9f0f95eb-1a06-444e-e277-6094c512312e"
      },
      "execution_count": 45,
      "outputs": [
        {
          "output_type": "stream",
          "name": "stdout",
          "text": [
            "2.0209019112130124 2.910514769073107\n"
          ]
        }
      ]
    },
    {
      "cell_type": "code",
      "source": [
        "costfunc(x,y,w,b)"
      ],
      "metadata": {
        "colab": {
          "base_uri": "https://localhost:8080/"
        },
        "id": "P_aitSPWIwqC",
        "outputId": "057e13a5-e821-4ffc-fdc3-2697389426fb"
      },
      "execution_count": 46,
      "outputs": [
        {
          "output_type": "execute_result",
          "data": {
            "text/plain": [
              "0.000770441729739898"
            ]
          },
          "metadata": {},
          "execution_count": 46
        }
      ]
    },
    {
      "cell_type": "code",
      "source": [
        "predict(2,w,b)"
      ],
      "metadata": {
        "colab": {
          "base_uri": "https://localhost:8080/"
        },
        "id": "O5pEx-nTJ-zB",
        "outputId": "7b16674f-93d1-4f8e-fa6f-60513266789a"
      },
      "execution_count": 47,
      "outputs": [
        {
          "output_type": "execute_result",
          "data": {
            "text/plain": [
              "6.952318591499132"
            ]
          },
          "metadata": {},
          "execution_count": 47
        }
      ]
    }
  ]
}