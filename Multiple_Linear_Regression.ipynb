{
  "nbformat": 4,
  "nbformat_minor": 0,
  "metadata": {
    "colab": {
      "provenance": []
    },
    "kernelspec": {
      "name": "python3",
      "display_name": "Python 3"
    },
    "language_info": {
      "name": "python"
    }
  },
  "cells": [
    {
      "cell_type": "code",
      "execution_count": 1,
      "metadata": {
        "id": "Q21u9ksiKKgZ"
      },
      "outputs": [],
      "source": [
        "import numpy as np"
      ]
    },
    {
      "cell_type": "code",
      "source": [
        "X_train = np.array([[1, 4, 2.3],[1.3, 5, 2.1],[1.28, 7, 2.3]])\n",
        "Y_train = np.zeros(3)"
      ],
      "metadata": {
        "id": "gxDZPWeHKvLe"
      },
      "execution_count": 73,
      "outputs": []
    },
    {
      "cell_type": "code",
      "source": [
        "def predict (X, w, b):\n",
        "  f_wb = np.dot(w,X) + b\n",
        "  return f_wb"
      ],
      "metadata": {
        "id": "Ccx88qx-LYSv"
      },
      "execution_count": 74,
      "outputs": []
    },
    {
      "cell_type": "code",
      "source": [
        "w = np.array([2,2,2])\n",
        "for i in range(3):\n",
        "  Y_train[i] = predict(X_train[i],w,3)"
      ],
      "metadata": {
        "id": "4MhIsFG1L8DJ"
      },
      "execution_count": 75,
      "outputs": []
    },
    {
      "cell_type": "code",
      "source": [
        "Y_train"
      ],
      "metadata": {
        "colab": {
          "base_uri": "https://localhost:8080/"
        },
        "id": "ks_yPktoMV4Q",
        "outputId": "cb87e8f2-8173-4ffe-e371-573b6be427a0"
      },
      "execution_count": 76,
      "outputs": [
        {
          "output_type": "execute_result",
          "data": {
            "text/plain": [
              "array([17.6 , 19.8 , 24.16])"
            ]
          },
          "metadata": {},
          "execution_count": 76
        }
      ]
    },
    {
      "cell_type": "code",
      "source": [
        "def costfunc(X,Y,w,b):\n",
        "  m,n = X.shape\n",
        "  cost = 0\n",
        "  for i in range(m):\n",
        "    y_pred = predict(X[i],w,b)\n",
        "    err = (y_pred - Y[i])**2\n",
        "    cost += err\n",
        "  cost = cost/(2*m)\n",
        "  return cost"
      ],
      "metadata": {
        "id": "K2ZpBQg_MZON"
      },
      "execution_count": 77,
      "outputs": []
    },
    {
      "cell_type": "code",
      "source": [
        "def gradient(X,Y,w,b):\n",
        "  m,n = X.shape\n",
        "  d_w = np.zeros((n,))\n",
        "  d_b = 0.\n",
        "  for i in range(m):\n",
        "    y_pred = predict(X[i],w,b)\n",
        "    err = y_pred - Y[i]\n",
        "    for j in range(n):\n",
        "      d_w[j] = d_w[j] + err * X[i,j]\n",
        "    d_b = d_b + err\n",
        "  d_w = d_w / m\n",
        "  d_b = d_b / m\n",
        "  return d_w, d_b"
      ],
      "metadata": {
        "id": "i9c3AN8gNn3C"
      },
      "execution_count": 78,
      "outputs": []
    },
    {
      "cell_type": "code",
      "source": [
        "def gradient_descent(X,Y,w,b,lr, itrs):\n",
        "  min = 1000\n",
        "  wres = np.zeros(3)\n",
        "  bres = 0\n",
        "  for i in range(itrs):\n",
        "    d_w, d_b = gradient(X,Y,w,b)\n",
        "    w = w - lr * d_w\n",
        "    b = b - lr * d_b\n",
        "    cost = costfunc(X,Y,w,b)\n",
        "    if(cost<min):\n",
        "        min = cost\n",
        "        wres = w\n",
        "        bres = b\n",
        "  return wres,bres,min"
      ],
      "metadata": {
        "id": "LZ8BTUoIT3Qe"
      },
      "execution_count": 79,
      "outputs": []
    },
    {
      "cell_type": "code",
      "source": [
        "w_pred = np.zeros(3)\n",
        "b_pred = 0"
      ],
      "metadata": {
        "id": "SnNjSdy5Uh2z"
      },
      "execution_count": 97,
      "outputs": []
    },
    {
      "cell_type": "code",
      "source": [
        "u = np.mean(X_train, axis=0)\n",
        "s = np.std(X_train, axis=0)\n",
        "X_norm = (X_train - u)/s"
      ],
      "metadata": {
        "id": "8mvx14nbZQJx"
      },
      "execution_count": 94,
      "outputs": []
    },
    {
      "cell_type": "code",
      "source": [
        "w_res, b_res, cost = gradient_descent(X_train, Y_train, w_pred, b_pred, 0.011, 100000)"
      ],
      "metadata": {
        "id": "H7acTGejU2FG"
      },
      "execution_count": 98,
      "outputs": []
    },
    {
      "cell_type": "code",
      "source": [
        "print(w_res, b_res,(1-cost)*100)"
      ],
      "metadata": {
        "colab": {
          "base_uri": "https://localhost:8080/"
        },
        "id": "F1BlEvotVSSx",
        "outputId": "d65526dc-39d7-4dbf-f882-f516adec341b"
      },
      "execution_count": 99,
      "outputs": [
        {
          "output_type": "stream",
          "name": "stdout",
          "text": [
            "[2.46230785 1.95685127 2.47771824] 1.6115351518604195 99.99999999999999\n"
          ]
        }
      ]
    },
    {
      "cell_type": "code",
      "source": [
        "X_test = np.array([1,4,2.3])\n",
        "Y_test = 17.6\n",
        "Y_pred = predict(X_test,w_res, b_res)"
      ],
      "metadata": {
        "id": "qQf9SsARebjO"
      },
      "execution_count": 100,
      "outputs": []
    },
    {
      "cell_type": "code",
      "source": [
        "Y_pred"
      ],
      "metadata": {
        "colab": {
          "base_uri": "https://localhost:8080/"
        },
        "id": "Pun8RjumfVeW",
        "outputId": "34ded1b7-1ce9-421e-b842-1cf9d041b978"
      },
      "execution_count": 101,
      "outputs": [
        {
          "output_type": "execute_result",
          "data": {
            "text/plain": [
              "17.60000000950402"
            ]
          },
          "metadata": {},
          "execution_count": 101
        }
      ]
    }
  ]
}